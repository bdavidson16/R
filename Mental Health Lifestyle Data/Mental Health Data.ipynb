{
 "cells": [
  {
   "cell_type": "code",
   "execution_count": 14,
   "id": "472154b6-017b-4671-9757-aedbf65ee8af",
   "metadata": {
    "scrolled": true,
    "vscode": {
     "languageId": "r"
    }
   },
   "outputs": [],
   "source": [
    "library(tidyverse)"
   ]
  },
  {
   "cell_type": "code",
   "execution_count": 15,
   "id": "2d6760d3-015c-4099-9bc4-a825bb2fd688",
   "metadata": {
    "scrolled": true,
    "vscode": {
     "languageId": "r"
    }
   },
   "outputs": [
    {
     "data": {
      "text/html": [
       "<table class=\"dataframe\">\n",
       "<caption>A data.frame: 6 × 12</caption>\n",
       "<thead>\n",
       "\t<tr><th></th><th scope=col>Country</th><th scope=col>Age</th><th scope=col>Gender</th><th scope=col>Exercise.Level</th><th scope=col>Diet.Type</th><th scope=col>Sleep.Hours</th><th scope=col>Stress.Level</th><th scope=col>Mental.Health.Condition</th><th scope=col>Work.Hours.per.Week</th><th scope=col>Screen.Time.per.Day..Hours.</th><th scope=col>Social.Interaction.Score</th><th scope=col>Happiness.Score</th></tr>\n",
       "\t<tr><th></th><th scope=col>&lt;chr&gt;</th><th scope=col>&lt;int&gt;</th><th scope=col>&lt;chr&gt;</th><th scope=col>&lt;chr&gt;</th><th scope=col>&lt;chr&gt;</th><th scope=col>&lt;dbl&gt;</th><th scope=col>&lt;chr&gt;</th><th scope=col>&lt;chr&gt;</th><th scope=col>&lt;int&gt;</th><th scope=col>&lt;dbl&gt;</th><th scope=col>&lt;dbl&gt;</th><th scope=col>&lt;dbl&gt;</th></tr>\n",
       "</thead>\n",
       "<tbody>\n",
       "\t<tr><th scope=row>1</th><td>Brazil   </td><td>48</td><td>Male  </td><td>Low     </td><td>Vegetarian</td><td>6.3</td><td>Low     </td><td>None      </td><td>21</td><td>4.0</td><td>7.8</td><td>6.5</td></tr>\n",
       "\t<tr><th scope=row>2</th><td>Australia</td><td>31</td><td>Male  </td><td>Moderate</td><td>Vegan     </td><td>4.9</td><td>Low     </td><td>PTSD      </td><td>48</td><td>5.2</td><td>8.2</td><td>6.8</td></tr>\n",
       "\t<tr><th scope=row>3</th><td>Japan    </td><td>37</td><td>Female</td><td>Low     </td><td>Vegetarian</td><td>7.2</td><td>High    </td><td>None      </td><td>43</td><td>4.7</td><td>9.6</td><td>9.7</td></tr>\n",
       "\t<tr><th scope=row>4</th><td>Brazil   </td><td>35</td><td>Male  </td><td>Low     </td><td>Vegan     </td><td>7.2</td><td>Low     </td><td>Depression</td><td>43</td><td>2.2</td><td>8.2</td><td>6.6</td></tr>\n",
       "\t<tr><th scope=row>5</th><td>Germany  </td><td>46</td><td>Male  </td><td>Low     </td><td>Balanced  </td><td>7.3</td><td>Low     </td><td>Anxiety   </td><td>35</td><td>3.6</td><td>4.7</td><td>4.4</td></tr>\n",
       "\t<tr><th scope=row>6</th><td>Japan    </td><td>23</td><td>Other </td><td>Moderate</td><td>Balanced  </td><td>2.7</td><td>Moderate</td><td>Anxiety   </td><td>50</td><td>3.3</td><td>8.4</td><td>7.2</td></tr>\n",
       "</tbody>\n",
       "</table>\n"
      ],
      "text/latex": [
       "A data.frame: 6 × 12\n",
       "\\begin{tabular}{r|llllllllllll}\n",
       "  & Country & Age & Gender & Exercise.Level & Diet.Type & Sleep.Hours & Stress.Level & Mental.Health.Condition & Work.Hours.per.Week & Screen.Time.per.Day..Hours. & Social.Interaction.Score & Happiness.Score\\\\\n",
       "  & <chr> & <int> & <chr> & <chr> & <chr> & <dbl> & <chr> & <chr> & <int> & <dbl> & <dbl> & <dbl>\\\\\n",
       "\\hline\n",
       "\t1 & Brazil    & 48 & Male   & Low      & Vegetarian & 6.3 & Low      & None       & 21 & 4.0 & 7.8 & 6.5\\\\\n",
       "\t2 & Australia & 31 & Male   & Moderate & Vegan      & 4.9 & Low      & PTSD       & 48 & 5.2 & 8.2 & 6.8\\\\\n",
       "\t3 & Japan     & 37 & Female & Low      & Vegetarian & 7.2 & High     & None       & 43 & 4.7 & 9.6 & 9.7\\\\\n",
       "\t4 & Brazil    & 35 & Male   & Low      & Vegan      & 7.2 & Low      & Depression & 43 & 2.2 & 8.2 & 6.6\\\\\n",
       "\t5 & Germany   & 46 & Male   & Low      & Balanced   & 7.3 & Low      & Anxiety    & 35 & 3.6 & 4.7 & 4.4\\\\\n",
       "\t6 & Japan     & 23 & Other  & Moderate & Balanced   & 2.7 & Moderate & Anxiety    & 50 & 3.3 & 8.4 & 7.2\\\\\n",
       "\\end{tabular}\n"
      ],
      "text/markdown": [
       "\n",
       "A data.frame: 6 × 12\n",
       "\n",
       "| <!--/--> | Country &lt;chr&gt; | Age &lt;int&gt; | Gender &lt;chr&gt; | Exercise.Level &lt;chr&gt; | Diet.Type &lt;chr&gt; | Sleep.Hours &lt;dbl&gt; | Stress.Level &lt;chr&gt; | Mental.Health.Condition &lt;chr&gt; | Work.Hours.per.Week &lt;int&gt; | Screen.Time.per.Day..Hours. &lt;dbl&gt; | Social.Interaction.Score &lt;dbl&gt; | Happiness.Score &lt;dbl&gt; |\n",
       "|---|---|---|---|---|---|---|---|---|---|---|---|---|\n",
       "| 1 | Brazil    | 48 | Male   | Low      | Vegetarian | 6.3 | Low      | None       | 21 | 4.0 | 7.8 | 6.5 |\n",
       "| 2 | Australia | 31 | Male   | Moderate | Vegan      | 4.9 | Low      | PTSD       | 48 | 5.2 | 8.2 | 6.8 |\n",
       "| 3 | Japan     | 37 | Female | Low      | Vegetarian | 7.2 | High     | None       | 43 | 4.7 | 9.6 | 9.7 |\n",
       "| 4 | Brazil    | 35 | Male   | Low      | Vegan      | 7.2 | Low      | Depression | 43 | 2.2 | 8.2 | 6.6 |\n",
       "| 5 | Germany   | 46 | Male   | Low      | Balanced   | 7.3 | Low      | Anxiety    | 35 | 3.6 | 4.7 | 4.4 |\n",
       "| 6 | Japan     | 23 | Other  | Moderate | Balanced   | 2.7 | Moderate | Anxiety    | 50 | 3.3 | 8.4 | 7.2 |\n",
       "\n"
      ],
      "text/plain": [
       "  Country   Age Gender Exercise.Level Diet.Type  Sleep.Hours Stress.Level\n",
       "1 Brazil    48  Male   Low            Vegetarian 6.3         Low         \n",
       "2 Australia 31  Male   Moderate       Vegan      4.9         Low         \n",
       "3 Japan     37  Female Low            Vegetarian 7.2         High        \n",
       "4 Brazil    35  Male   Low            Vegan      7.2         Low         \n",
       "5 Germany   46  Male   Low            Balanced   7.3         Low         \n",
       "6 Japan     23  Other  Moderate       Balanced   2.7         Moderate    \n",
       "  Mental.Health.Condition Work.Hours.per.Week Screen.Time.per.Day..Hours.\n",
       "1 None                    21                  4.0                        \n",
       "2 PTSD                    48                  5.2                        \n",
       "3 None                    43                  4.7                        \n",
       "4 Depression              43                  2.2                        \n",
       "5 Anxiety                 35                  3.6                        \n",
       "6 Anxiety                 50                  3.3                        \n",
       "  Social.Interaction.Score Happiness.Score\n",
       "1 7.8                      6.5            \n",
       "2 8.2                      6.8            \n",
       "3 9.6                      9.7            \n",
       "4 8.2                      6.6            \n",
       "5 4.7                      4.4            \n",
       "6 8.4                      7.2            "
      ]
     },
     "metadata": {},
     "output_type": "display_data"
    }
   ],
   "source": [
    "df <- read.csv('Mental_Health_Lifestyle_Dataset.csv')\n",
    "head(df)"
   ]
  },
  {
   "cell_type": "markdown",
   "id": "853fd326-abe0-4deb-887c-f247d10d2086",
   "metadata": {},
   "source": [
    "## Numeric Correlations"
   ]
  },
  {
   "cell_type": "code",
   "execution_count": 16,
   "id": "f94a1a56-a867-4c5f-9bbd-013a49af3101",
   "metadata": {
    "scrolled": true,
    "vscode": {
     "languageId": "r"
    }
   },
   "outputs": [
    {
     "data": {
      "text/html": [
       "<table class=\"dataframe\">\n",
       "<caption>A data.frame: 6 × 5</caption>\n",
       "<thead>\n",
       "\t<tr><th></th><th scope=col>Happiness.Score</th><th scope=col>Sleep.Hours</th><th scope=col>Screen.Time.per.Day..Hours.</th><th scope=col>Social.Interaction.Score</th><th scope=col>Age</th></tr>\n",
       "\t<tr><th></th><th scope=col>&lt;dbl&gt;</th><th scope=col>&lt;dbl&gt;</th><th scope=col>&lt;dbl&gt;</th><th scope=col>&lt;dbl&gt;</th><th scope=col>&lt;int&gt;</th></tr>\n",
       "</thead>\n",
       "<tbody>\n",
       "\t<tr><th scope=row>1</th><td>6.5</td><td>6.3</td><td>4.0</td><td>7.8</td><td>48</td></tr>\n",
       "\t<tr><th scope=row>2</th><td>6.8</td><td>4.9</td><td>5.2</td><td>8.2</td><td>31</td></tr>\n",
       "\t<tr><th scope=row>3</th><td>9.7</td><td>7.2</td><td>4.7</td><td>9.6</td><td>37</td></tr>\n",
       "\t<tr><th scope=row>4</th><td>6.6</td><td>7.2</td><td>2.2</td><td>8.2</td><td>35</td></tr>\n",
       "\t<tr><th scope=row>5</th><td>4.4</td><td>7.3</td><td>3.6</td><td>4.7</td><td>46</td></tr>\n",
       "\t<tr><th scope=row>6</th><td>7.2</td><td>2.7</td><td>3.3</td><td>8.4</td><td>23</td></tr>\n",
       "</tbody>\n",
       "</table>\n"
      ],
      "text/latex": [
       "A data.frame: 6 × 5\n",
       "\\begin{tabular}{r|lllll}\n",
       "  & Happiness.Score & Sleep.Hours & Screen.Time.per.Day..Hours. & Social.Interaction.Score & Age\\\\\n",
       "  & <dbl> & <dbl> & <dbl> & <dbl> & <int>\\\\\n",
       "\\hline\n",
       "\t1 & 6.5 & 6.3 & 4.0 & 7.8 & 48\\\\\n",
       "\t2 & 6.8 & 4.9 & 5.2 & 8.2 & 31\\\\\n",
       "\t3 & 9.7 & 7.2 & 4.7 & 9.6 & 37\\\\\n",
       "\t4 & 6.6 & 7.2 & 2.2 & 8.2 & 35\\\\\n",
       "\t5 & 4.4 & 7.3 & 3.6 & 4.7 & 46\\\\\n",
       "\t6 & 7.2 & 2.7 & 3.3 & 8.4 & 23\\\\\n",
       "\\end{tabular}\n"
      ],
      "text/markdown": [
       "\n",
       "A data.frame: 6 × 5\n",
       "\n",
       "| <!--/--> | Happiness.Score &lt;dbl&gt; | Sleep.Hours &lt;dbl&gt; | Screen.Time.per.Day..Hours. &lt;dbl&gt; | Social.Interaction.Score &lt;dbl&gt; | Age &lt;int&gt; |\n",
       "|---|---|---|---|---|---|\n",
       "| 1 | 6.5 | 6.3 | 4.0 | 7.8 | 48 |\n",
       "| 2 | 6.8 | 4.9 | 5.2 | 8.2 | 31 |\n",
       "| 3 | 9.7 | 7.2 | 4.7 | 9.6 | 37 |\n",
       "| 4 | 6.6 | 7.2 | 2.2 | 8.2 | 35 |\n",
       "| 5 | 4.4 | 7.3 | 3.6 | 4.7 | 46 |\n",
       "| 6 | 7.2 | 2.7 | 3.3 | 8.4 | 23 |\n",
       "\n"
      ],
      "text/plain": [
       "  Happiness.Score Sleep.Hours Screen.Time.per.Day..Hours.\n",
       "1 6.5             6.3         4.0                        \n",
       "2 6.8             4.9         5.2                        \n",
       "3 9.7             7.2         4.7                        \n",
       "4 6.6             7.2         2.2                        \n",
       "5 4.4             7.3         3.6                        \n",
       "6 7.2             2.7         3.3                        \n",
       "  Social.Interaction.Score Age\n",
       "1 7.8                      48 \n",
       "2 8.2                      31 \n",
       "3 9.6                      37 \n",
       "4 8.2                      35 \n",
       "5 4.7                      46 \n",
       "6 8.4                      23 "
      ]
     },
     "metadata": {},
     "output_type": "display_data"
    }
   ],
   "source": [
    "myvars <- c('Happiness.Score','Sleep.Hours','Screen.Time.per.Day..Hours.',\n",
    "            'Social.Interaction.Score', 'Age')\n",
    "df_sub <- df[myvars]\n",
    "head(df_sub)\n"
   ]
  },
  {
   "cell_type": "code",
   "execution_count": 17,
   "id": "38d0bb7d-33e9-4d27-bc72-0f1bc3ae69bb",
   "metadata": {
    "vscode": {
     "languageId": "r"
    }
   },
   "outputs": [
    {
     "name": "stdout",
     "output_type": "stream",
     "text": [
      "[1] \"cor\"\n"
     ]
    },
    {
     "data": {
      "text/html": [
       "<table class=\"dataframe\">\n",
       "<caption>A matrix: 5 × 5 of type dbl</caption>\n",
       "<thead>\n",
       "\t<tr><th></th><th scope=col>Happiness.Score</th><th scope=col>Sleep.Hours</th><th scope=col>Screen.Time.per.Day..Hours.</th><th scope=col>Social.Interaction.Score</th><th scope=col>Age</th></tr>\n",
       "</thead>\n",
       "<tbody>\n",
       "\t<tr><th scope=row>Happiness.Score</th><td> 1.00000</td><td> 0.01739</td><td> 0.01679</td><td>-0.04024</td><td>-0.01586</td></tr>\n",
       "\t<tr><th scope=row>Sleep.Hours</th><td> 0.01739</td><td> 1.00000</td><td> 0.02255</td><td>-0.00522</td><td>-0.01658</td></tr>\n",
       "\t<tr><th scope=row>Screen.Time.per.Day..Hours.</th><td> 0.01679</td><td> 0.02255</td><td> 1.00000</td><td> 0.00634</td><td>-0.00495</td></tr>\n",
       "\t<tr><th scope=row>Social.Interaction.Score</th><td>-0.04024</td><td>-0.00522</td><td> 0.00634</td><td> 1.00000</td><td>-0.04387</td></tr>\n",
       "\t<tr><th scope=row>Age</th><td>-0.01586</td><td>-0.01658</td><td>-0.00495</td><td>-0.04387</td><td> 1.00000</td></tr>\n",
       "</tbody>\n",
       "</table>\n"
      ],
      "text/latex": [
       "A matrix: 5 × 5 of type dbl\n",
       "\\begin{tabular}{r|lllll}\n",
       "  & Happiness.Score & Sleep.Hours & Screen.Time.per.Day..Hours. & Social.Interaction.Score & Age\\\\\n",
       "\\hline\n",
       "\tHappiness.Score &  1.00000 &  0.01739 &  0.01679 & -0.04024 & -0.01586\\\\\n",
       "\tSleep.Hours &  0.01739 &  1.00000 &  0.02255 & -0.00522 & -0.01658\\\\\n",
       "\tScreen.Time.per.Day..Hours. &  0.01679 &  0.02255 &  1.00000 &  0.00634 & -0.00495\\\\\n",
       "\tSocial.Interaction.Score & -0.04024 & -0.00522 &  0.00634 &  1.00000 & -0.04387\\\\\n",
       "\tAge & -0.01586 & -0.01658 & -0.00495 & -0.04387 &  1.00000\\\\\n",
       "\\end{tabular}\n"
      ],
      "text/markdown": [
       "\n",
       "A matrix: 5 × 5 of type dbl\n",
       "\n",
       "| <!--/--> | Happiness.Score | Sleep.Hours | Screen.Time.per.Day..Hours. | Social.Interaction.Score | Age |\n",
       "|---|---|---|---|---|---|\n",
       "| Happiness.Score |  1.00000 |  0.01739 |  0.01679 | -0.04024 | -0.01586 |\n",
       "| Sleep.Hours |  0.01739 |  1.00000 |  0.02255 | -0.00522 | -0.01658 |\n",
       "| Screen.Time.per.Day..Hours. |  0.01679 |  0.02255 |  1.00000 |  0.00634 | -0.00495 |\n",
       "| Social.Interaction.Score | -0.04024 | -0.00522 |  0.00634 |  1.00000 | -0.04387 |\n",
       "| Age | -0.01586 | -0.01658 | -0.00495 | -0.04387 |  1.00000 |\n",
       "\n"
      ],
      "text/plain": [
       "                            Happiness.Score Sleep.Hours\n",
       "Happiness.Score              1.00000         0.01739   \n",
       "Sleep.Hours                  0.01739         1.00000   \n",
       "Screen.Time.per.Day..Hours.  0.01679         0.02255   \n",
       "Social.Interaction.Score    -0.04024        -0.00522   \n",
       "Age                         -0.01586        -0.01658   \n",
       "                            Screen.Time.per.Day..Hours.\n",
       "Happiness.Score              0.01679                   \n",
       "Sleep.Hours                  0.02255                   \n",
       "Screen.Time.per.Day..Hours.  1.00000                   \n",
       "Social.Interaction.Score     0.00634                   \n",
       "Age                         -0.00495                   \n",
       "                            Social.Interaction.Score Age     \n",
       "Happiness.Score             -0.04024                 -0.01586\n",
       "Sleep.Hours                 -0.00522                 -0.01658\n",
       "Screen.Time.per.Day..Hours.  0.00634                 -0.00495\n",
       "Social.Interaction.Score     1.00000                 -0.04387\n",
       "Age                         -0.04387                  1.00000"
      ]
     },
     "metadata": {},
     "output_type": "display_data"
    }
   ],
   "source": [
    "print(\"cor\")\n",
    "corr_matrix <- cor(df_sub, method = \"pearson\")\n",
    "round(corr_matrix, 5)"
   ]
  },
  {
   "cell_type": "code",
   "execution_count": 18,
   "id": "570022a7-a715-461b-b4d6-ddaf683f4d6c",
   "metadata": {
    "vscode": {
     "languageId": "r"
    }
   },
   "outputs": [
    {
     "name": "stdout",
     "output_type": "stream",
     "text": [
      "[1] \"Happiness Correlations\"\n"
     ]
    },
    {
     "data": {
      "image/png": "[encoded data removed]",
      "text/plain": [
       "Plot with title \"Age\""
      ]
     },
     "metadata": {
      "image/png": {
       "height": 420,
       "width": 420
      }
     },
     "output_type": "display_data"
    }
   ],
   "source": [
    "print(\"Happiness Correlations\")\n",
    "\n",
    "par(mfrow = c(2, 2))\n",
    "\n",
    "plot(x=df_sub$Happiness.Score, y=df_sub$Sleep.Hours, main=\"Sleep\")\n",
    "\n",
    "plot(x=df_sub$Happiness.Score, y=df_sub$Screen.Time.per.Day..Hours., main=\"Screen Time\")\n",
    "\n",
    "plot(x=df_sub$Happiness.Score, y=df_sub$Social.Interaction.Score, main=\"Social Interaction\")\n",
    "\n",
    "plot(x=df_sub$Happiness.Score, y=df_sub$Age, main=\"Age\")\n"
   ]
  },
  {
   "cell_type": "markdown",
   "id": "b846f0e6-a63f-4560-a203-afb0c02cbbda",
   "metadata": {},
   "source": [
    "The highest correlation is between Happiness and Social Interaction with -0.0402, which is very close to zero (AKA no correlation).\n",
    "\n",
    "There is **no significant correlation between variables**"
   ]
  },
  {
   "cell_type": "code",
   "execution_count": 19,
   "id": "e54e717e-f300-49d9-9d78-16ce0d53c05f",
   "metadata": {
    "vscode": {
     "languageId": "r"
    }
   },
   "outputs": [
    {
     "data": {
      "text/plain": [
       "\n",
       "Call:\n",
       "lm(formula = df$Happiness.Score ~ df$Sleep.Hours + df$Screen.Time.per.Day..Hours + \n",
       "    df$Social.Interaction.Score + df$Age)\n",
       "\n",
       "Residuals:\n",
       "    Min      1Q  Median      3Q     Max \n",
       "-4.5728 -2.2015  0.0106  2.1376  4.7669 \n",
       "\n",
       "Coefficients:\n",
       "                               Estimate Std. Error t value Pr(>|t|)    \n",
       "(Intercept)                    5.448820   0.305092  17.860   <2e-16 ***\n",
       "df$Sleep.Hours                 0.028159   0.031133   0.904   0.3658    \n",
       "df$Screen.Time.per.Day..Hours  0.024288   0.026722   0.909   0.3635    \n",
       "df$Social.Interaction.Score   -0.040919   0.018226  -2.245   0.0248 *  \n",
       "df$Age                        -0.003296   0.003480  -0.947   0.3436    \n",
       "---\n",
       "Signif. codes:  0 '***' 0.001 '**' 0.01 '*' 0.05 '.' 0.1 ' ' 1\n",
       "\n",
       "Residual standard error: 2.556 on 2995 degrees of freedom\n",
       "Multiple R-squared:  0.00249,\tAdjusted R-squared:  0.001158 \n",
       "F-statistic: 1.869 on 4 and 2995 DF,  p-value: 0.113\n"
      ]
     },
     "metadata": {},
     "output_type": "display_data"
    }
   ],
   "source": [
    "model1 <- lm(df$Happiness.Score ~ df$Sleep.Hours + df$Screen.Time.per.Day..Hours + df$Social.Interaction.Score + df$Age)\n",
    "summary(model1)"
   ]
  },
  {
   "cell_type": "markdown",
   "id": "416ba10c",
   "metadata": {},
   "source": [
    "None of these terms have a significant effect on a person's happiness score. The social interaction term shows that it is significant at the 5% level, which means that it may have some effect, however the estimate says that whenever the social interaction score increases by 1 a person's happiness score decreases by -0.04 units. Not only is this a very small change, but realistically and generally a person should have a higher happiness score with a higher social interaction score. With that being said, the model only has a p-value of 0.113, making the model as a whole not significant. Also, the adjusted R-squared is less than 1%, meaning that less than 1% of data can confidently be predicted using this model."
   ]
  },
  {
   "cell_type": "markdown",
   "id": "a5384dc2-6a86-4f25-b32a-3f67c9a4595f",
   "metadata": {},
   "source": [
    "## Statistical Conclusion:\n",
    "There is no strong correlation between any of the variables and the model does not have enough evidence if there was significance."
   ]
  },
  {
   "cell_type": "markdown",
   "id": "d7672954-fdb9-4f1c-a002-2c8a3dedee7b",
   "metadata": {},
   "source": [
    "# Happiness Levels of Sub Populations"
   ]
  },
  {
   "cell_type": "code",
   "execution_count": 56,
   "id": "0aa851da-2a00-46e0-ad94-632f09211011",
   "metadata": {
    "vscode": {
     "languageId": "r"
    }
   },
   "outputs": [],
   "source": [
    "df_stress <- df[c(\"Stress.Level\", \"Happiness.Score\")]\n",
    "df_country <- df[c(\"Country\", \"Happiness.Score\")]\n",
    "df_gender<- df[c(\"Gender\", \"Happiness.Score\")]\n",
    "df_exercise <- df[c(\"Exercise.Level\", \"Happiness.Score\")]\n",
    "df_diet <- df[c(\"Diet.Type\", \"Happiness.Score\")]\n"
   ]
  },
  {
   "cell_type": "code",
   "execution_count": 61,
   "id": "61ecd388-a2ba-4847-9a24-10c287de676c",
   "metadata": {
    "vscode": {
     "languageId": "r"
    }
   },
   "outputs": [
    {
     "name": "stdout",
     "output_type": "stream",
     "text": [
      "   Diet.Type Happiness.Score\n",
      "1   Balanced        5.247680\n",
      "2  Junk Food        5.436264\n",
      "3       Keto        5.339616\n",
      "4      Vegan        5.287086\n",
      "5 Vegetarian        5.664527\n"
     ]
    }
   ],
   "source": [
    "stress_means <- aggregate(Happiness.Score ~ Stress.Level, df_stress, mean)\n",
    "country_means <- aggregate(Happiness.Score ~ Country, df_country, mean)\n",
    "gender_means <- aggregate(Happiness.Score ~ Gender, df_gender, mean)\n",
    "exercise_means <- aggregate(Happiness.Score ~ Exercise.Level, df_exercise, mean)\n",
    "diet_means <- aggregate(Happiness.Score ~ Diet.Type, df_diet, mean)\n",
    "\n",
    "print(diet_means)\n"
   ]
  },
  {
   "cell_type": "code",
   "execution_count": null,
   "id": "d50705cd-ea9f-4e4c-803e-3078f0ea9755",
   "metadata": {
    "vscode": {
     "languageId": "r"
    }
   },
   "outputs": [
    {
     "name": "stdout",
     "output_type": "stream",
     "text": [
      "[1] \"Happiness vs. Demographics Graph\"\n"
     ]
    },
    {
     "data": {
      "image/png": "[encoded data removed]",
      "text/plain": [
       "Plot with title \"Gender\""
      ]
     },
     "metadata": {
      "image/png": {
       "height": 420,
       "width": 420
      }
     },
     "output_type": "display_data"
    }
   ],
   "source": [
    "par(mfrow = c(1, 2))\n",
    "\n",
    "print(\"Happiness vs. Demographics Graph\")\n",
    "\n",
    "barplot(country_means$Happiness.Score, main=\"Country\", names.arg=country_means$Country, col=\"red\", las=2)\n",
    "barplot(gender_means$Happiness.Score, main=\"Gender\", names.arg=gender_means$Gender, col=\"green\")"
   ]
  },
  {
   "cell_type": "code",
   "execution_count": null,
   "id": "324ec24e-502f-4761-a27f-b3c396a04aea",
   "metadata": {
    "vscode": {
     "languageId": "r"
    }
   },
   "outputs": [
    {
     "name": "stdout",
     "output_type": "stream",
     "text": [
      "[1] \"Happiness vs. Lifestyle Graph\"\n"
     ]
    },
    {
     "data": {
      "image/png": "[encoded data removed]",
      "text/plain": [
       "Plot with title \"Exercise\""
      ]
     },
     "metadata": {
      "image/png": {
       "height": 420,
       "width": 420
      }
     },
     "output_type": "display_data"
    }
   ],
   "source": [
    "par(mfrow = c(1, 2))\n",
    "\n",
    "print(\"Happiness vs. Lifestyle Graph\")\n",
    "\n",
    "barplot(diet_means$Happiness.Score, main=\"Diet\", names.arg=diet_means$Diet.Type, col=\"blue\", las=2)\n",
    "barplot(exercise_means$Happiness.Score, main=\"Exercise\", names.arg=exercise_means$Exercise.Level, col=\"purple\")"
   ]
  },
  {
   "cell_type": "code",
   "execution_count": 65,
   "id": "c122cacb-d868-44bd-98e2-000e3c20565e",
   "metadata": {
    "vscode": {
     "languageId": "r"
    }
   },
   "outputs": [
    {
     "name": "stdout",
     "output_type": "stream",
     "text": [
      "[1] \"Happiness vs. Stress Graph\"\n"
     ]
    },
    {
     "data": {
      "image/png": "[encoded data removed]",
      "text/plain": [
       "Plot with title \"Stress\""
      ]
     },
     "metadata": {
      "image/png": {
       "height": 420,
       "width": 420
      }
     },
     "output_type": "display_data"
    }
   ],
   "source": [
    "print(\"Happiness vs. Stress Graph\")\n",
    "barplot(stress_means$Happiness.Score, main=\"Stress\", names.arg=stress_means$Stress.Level, col=\"blue\")\n"
   ]
  }
 ],
 "metadata": {
  "kernelspec": {
   "display_name": "R",
   "language": "R",
   "name": "ir"
  },
  "language_info": {
   "codemirror_mode": "r",
   "file_extension": ".r",
   "mimetype": "text/x-r-source",
   "name": "R",
   "pygments_lexer": "r",
   "version": "4.4.2"
  }
 },
 "nbformat": 4,
 "nbformat_minor": 5
}
