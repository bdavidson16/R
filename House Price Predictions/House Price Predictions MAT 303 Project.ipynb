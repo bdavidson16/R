{
 "cells": [
  {
   "cell_type": "markdown",
   "metadata": {
    "deletable": false,
    "editable": false
   },
   "source": [
    "# Project One: Multiple Regression, Qualitative Variables Interactions, Quadratic Regression\n",
    "\n",
    "For Project One, you have been asked to create different regression models analyzing a housing data set. Before beginning work on the project, be sure to read through the Project One Guidelines and Rubric to understand what you need to do and how you will be graded on this assignment. Be sure to carefully review the Project One Summary Report template, which contains all of the questions that you will need to answer about the regression analyses you are performing.\n",
    "\n",
    "For this project, you will be writing all the scripts yourself. You may reference the textbook and your previous work on the problem sets to help you write the scripts.\n",
    "\n",
    "\n",
    "### Scenario\n",
    "\n",
    "You are a data analyst working for a real estate company. You have access to a large set of historical data that you can use to analyze relationships between different attributes of a house (such as square footage or the number of bathrooms) and the house’s selling price. You have been asked to create different regression models to predict sale prices for houses based on critical variable factors. These regression models will help your company set better prices when listing a home for a client. Setting better prices will ensure that listings can be sold within a reasonable amount of time.\n",
    "\n",
    "There are several variables in this data set, but you will be working with the following important variables: \n",
    "\n",
    "| <div style=\"text-align: left\"> Variable </div>  |   <div style=\"text-align: left\"> What does it represent? </div> |\n",
    "| -- | --  |\n",
    "| <div style=\"text-align: left\"> price </div> | <div style=\"text-align: left\"> Sale price of the home </div> |\n",
    "| <div style=\"text-align: left\"> bedrooms </div> | <div style=\"text-align: left\"> Number of bedrooms </div> |\n",
    "| <div style=\"text-align: left\"> bathrooms </div> | <div style=\"text-align: left\"> Number of bathrooms </div> |\n",
    "| <div style=\"text-align: left\"> sqft_living </div> | <div style=\"text-align: left\"> Size of the living area in sqft </div> |\n",
    "| <div style=\"text-align: left\"> sqft_above </div> | <div style=\"text-align: left\"> Size of the upper level in sqft </div> |\n",
    "| <div style=\"text-align: left\"> sqft_lot </div> | <div style=\"text-align: left\"> Size of the lot in sqft </div> |\n",
    "| <div style=\"text-align: left\"> age </div> | <div style=\"text-align: left\"> Age of the home </div> |\n",
    "| <div style=\"text-align: left\"> grade </div> | <div style=\"text-align: left\"> Measure of craftsmanship and the quality of materials used to build the home </div> |\n",
    "| <div style=\"text-align: left\"> appliance_age </div> | <div style=\"text-align: left\"> Average age of all appliances in the home </div> |\n",
    "| <div style=\"text-align: left\"> crime </div> | <div style=\"text-align: left\"> Crime rate per 100,000 people </div> |\n",
    "| <div style=\"text-align: left\"> backyard </div> | <div style=\"text-align: left\"> Home has a backyard (backyard=1) or not (backyard=0) </div> |\n",
    "| <div style=\"text-align: left\"> school_rating </div> | <div style=\"text-align: left\"> Average rating of schools in the area </div> |\n",
    "| <div style=\"text-align: left\"> view </div> | <div style=\"text-align: left\"> Home backs out to a lake (view=2), backs out to trees (view=1), or backs out to a road (view=0) </div> |\n",
    "\n",
    "**--------------------------------------------------------------------------------------------------------------------------------------------------------------------------------------------------------**"
   ]
  },
  {
   "cell_type": "markdown",
   "metadata": {
    "deletable": false,
    "editable": false
   },
   "source": [
    "# Prepare Your Data Set\n",
    "\n",
    "In the following code block, you have been given the R code to prepare your data set.\n",
    "\n",
    "Click the **Run** button on the toolbar to run this code."
   ]
  },
  {
   "cell_type": "code",
   "execution_count": 3,
   "metadata": {
    "deletable": false,
    "editable": false
   },
   "outputs": [
    {
     "data": {
      "text/html": [
       "23"
      ],
      "text/latex": [
       "23"
      ],
      "text/markdown": [
       "23"
      ],
      "text/plain": [
       "[1] 23"
      ]
     },
     "metadata": {},
     "output_type": "display_data"
    },
    {
     "data": {
      "text/html": [
       "2692"
      ],
      "text/latex": [
       "2692"
      ],
      "text/markdown": [
       "2692"
      ],
      "text/plain": [
       "[1] 2692"
      ]
     },
     "metadata": {},
     "output_type": "display_data"
    }
   ],
   "source": [
    "housing <- read.csv(file=\"housing_v2.csv\", header=TRUE, sep=\",\")\n",
    "\n",
    "# converting appropriate variables to factors  \n",
    "housing <- within(housing, {\n",
    "   view <- factor(view)\n",
    "   backyard <- factor(backyard)\n",
    "})\n",
    "\n",
    "# number of columns\n",
    "ncol(housing)\n",
    "\n",
    "# number of rows\n",
    "nrow(housing)"
   ]
  },
  {
   "cell_type": "code",
   "execution_count": 4,
   "metadata": {
    "scrolled": true
   },
   "outputs": [
    {
     "data": {
      "text/html": [
       "<table class=\"dataframe\">\n",
       "<caption>A data.frame: 6 × 23</caption>\n",
       "<thead>\n",
       "\t<tr><th></th><th scope=col>id</th><th scope=col>price</th><th scope=col>bedrooms</th><th scope=col>bathrooms</th><th scope=col>sqft_living</th><th scope=col>sqft_lot</th><th scope=col>floors</th><th scope=col>backyard</th><th scope=col>view</th><th scope=col>condition</th><th scope=col>⋯</th><th scope=col>yr_built</th><th scope=col>yr_renovated</th><th scope=col>renovated</th><th scope=col>zipcode</th><th scope=col>sqft_living15</th><th scope=col>sqft_lot15</th><th scope=col>age</th><th scope=col>appliance_age</th><th scope=col>crime</th><th scope=col>school_rating</th></tr>\n",
       "\t<tr><th></th><th scope=col>&lt;int&gt;</th><th scope=col>&lt;int&gt;</th><th scope=col>&lt;int&gt;</th><th scope=col>&lt;dbl&gt;</th><th scope=col>&lt;int&gt;</th><th scope=col>&lt;int&gt;</th><th scope=col>&lt;dbl&gt;</th><th scope=col>&lt;fct&gt;</th><th scope=col>&lt;fct&gt;</th><th scope=col>&lt;int&gt;</th><th scope=col>⋯</th><th scope=col>&lt;int&gt;</th><th scope=col>&lt;int&gt;</th><th scope=col>&lt;int&gt;</th><th scope=col>&lt;int&gt;</th><th scope=col>&lt;int&gt;</th><th scope=col>&lt;int&gt;</th><th scope=col>&lt;int&gt;</th><th scope=col>&lt;dbl&gt;</th><th scope=col>&lt;int&gt;</th><th scope=col>&lt;dbl&gt;</th></tr>\n",
       "</thead>\n",
       "<tbody>\n",
       "\t<tr><th scope=row>1</th><td>1</td><td>325000</td><td>3</td><td>2.25</td><td>1570</td><td>43350</td><td>1.0</td><td>0</td><td>2</td><td>4</td><td>⋯</td><td>1967</td><td>0</td><td>0</td><td>98022</td><td>1570</td><td>220849</td><td>48</td><td>17.7</td><td>138</td><td>5.27</td></tr>\n",
       "\t<tr><th scope=row>2</th><td>2</td><td>745000</td><td>5</td><td>3.00</td><td>2400</td><td>10126</td><td>2.0</td><td>0</td><td>2</td><td>3</td><td>⋯</td><td>1981</td><td>0</td><td>0</td><td>98126</td><td>2250</td><td>  3946</td><td>34</td><td> 3.2</td><td>101</td><td>9.14</td></tr>\n",
       "\t<tr><th scope=row>3</th><td>3</td><td>571000</td><td>4</td><td>1.00</td><td>1350</td><td> 4000</td><td>1.5</td><td>0</td><td>0</td><td>3</td><td>⋯</td><td>1930</td><td>0</td><td>0</td><td>98117</td><td>1520</td><td>  4000</td><td>85</td><td> 7.6</td><td>110</td><td>7.97</td></tr>\n",
       "\t<tr><th scope=row>4</th><td>4</td><td>395000</td><td>2</td><td>2.00</td><td>1960</td><td> 4018</td><td>1.0</td><td>0</td><td>0</td><td>5</td><td>⋯</td><td>1950</td><td>0</td><td>0</td><td>98108</td><td>1240</td><td>  4641</td><td>65</td><td>13.0</td><td>118</td><td>6.52</td></tr>\n",
       "\t<tr><th scope=row>5</th><td>5</td><td>449950</td><td>3</td><td>1.75</td><td>1470</td><td> 7590</td><td>1.0</td><td>0</td><td>0</td><td>3</td><td>⋯</td><td>1988</td><td>0</td><td>0</td><td>98117</td><td>1700</td><td>  5080</td><td>27</td><td> 6.8</td><td> 98</td><td>8.18</td></tr>\n",
       "\t<tr><th scope=row>6</th><td>6</td><td>243000</td><td>3</td><td>1.75</td><td>1450</td><td>12125</td><td>1.0</td><td>0</td><td>0</td><td>4</td><td>⋯</td><td>1981</td><td>0</td><td>0</td><td>98001</td><td>1210</td><td> 12125</td><td>34</td><td>14.1</td><td>209</td><td>6.23</td></tr>\n",
       "</tbody>\n",
       "</table>\n"
      ],
      "text/latex": [
       "A data.frame: 6 × 23\n",
       "\\begin{tabular}{r|lllllllllllllllllllll}\n",
       "  & id & price & bedrooms & bathrooms & sqft\\_living & sqft\\_lot & floors & backyard & view & condition & ⋯ & yr\\_built & yr\\_renovated & renovated & zipcode & sqft\\_living15 & sqft\\_lot15 & age & appliance\\_age & crime & school\\_rating\\\\\n",
       "  & <int> & <int> & <int> & <dbl> & <int> & <int> & <dbl> & <fct> & <fct> & <int> & ⋯ & <int> & <int> & <int> & <int> & <int> & <int> & <int> & <dbl> & <int> & <dbl>\\\\\n",
       "\\hline\n",
       "\t1 & 1 & 325000 & 3 & 2.25 & 1570 & 43350 & 1.0 & 0 & 2 & 4 & ⋯ & 1967 & 0 & 0 & 98022 & 1570 & 220849 & 48 & 17.7 & 138 & 5.27\\\\\n",
       "\t2 & 2 & 745000 & 5 & 3.00 & 2400 & 10126 & 2.0 & 0 & 2 & 3 & ⋯ & 1981 & 0 & 0 & 98126 & 2250 &   3946 & 34 &  3.2 & 101 & 9.14\\\\\n",
       "\t3 & 3 & 571000 & 4 & 1.00 & 1350 &  4000 & 1.5 & 0 & 0 & 3 & ⋯ & 1930 & 0 & 0 & 98117 & 1520 &   4000 & 85 &  7.6 & 110 & 7.97\\\\\n",
       "\t4 & 4 & 395000 & 2 & 2.00 & 1960 &  4018 & 1.0 & 0 & 0 & 5 & ⋯ & 1950 & 0 & 0 & 98108 & 1240 &   4641 & 65 & 13.0 & 118 & 6.52\\\\\n",
       "\t5 & 5 & 449950 & 3 & 1.75 & 1470 &  7590 & 1.0 & 0 & 0 & 3 & ⋯ & 1988 & 0 & 0 & 98117 & 1700 &   5080 & 27 &  6.8 &  98 & 8.18\\\\\n",
       "\t6 & 6 & 243000 & 3 & 1.75 & 1450 & 12125 & 1.0 & 0 & 0 & 4 & ⋯ & 1981 & 0 & 0 & 98001 & 1210 &  12125 & 34 & 14.1 & 209 & 6.23\\\\\n",
       "\\end{tabular}\n"
      ],
      "text/markdown": [
       "\n",
       "A data.frame: 6 × 23\n",
       "\n",
       "| <!--/--> | id &lt;int&gt; | price &lt;int&gt; | bedrooms &lt;int&gt; | bathrooms &lt;dbl&gt; | sqft_living &lt;int&gt; | sqft_lot &lt;int&gt; | floors &lt;dbl&gt; | backyard &lt;fct&gt; | view &lt;fct&gt; | condition &lt;int&gt; | ⋯ ⋯ | yr_built &lt;int&gt; | yr_renovated &lt;int&gt; | renovated &lt;int&gt; | zipcode &lt;int&gt; | sqft_living15 &lt;int&gt; | sqft_lot15 &lt;int&gt; | age &lt;int&gt; | appliance_age &lt;dbl&gt; | crime &lt;int&gt; | school_rating &lt;dbl&gt; |\n",
       "|---|---|---|---|---|---|---|---|---|---|---|---|---|---|---|---|---|---|---|---|---|---|\n",
       "| 1 | 1 | 325000 | 3 | 2.25 | 1570 | 43350 | 1.0 | 0 | 2 | 4 | ⋯ | 1967 | 0 | 0 | 98022 | 1570 | 220849 | 48 | 17.7 | 138 | 5.27 |\n",
       "| 2 | 2 | 745000 | 5 | 3.00 | 2400 | 10126 | 2.0 | 0 | 2 | 3 | ⋯ | 1981 | 0 | 0 | 98126 | 2250 |   3946 | 34 |  3.2 | 101 | 9.14 |\n",
       "| 3 | 3 | 571000 | 4 | 1.00 | 1350 |  4000 | 1.5 | 0 | 0 | 3 | ⋯ | 1930 | 0 | 0 | 98117 | 1520 |   4000 | 85 |  7.6 | 110 | 7.97 |\n",
       "| 4 | 4 | 395000 | 2 | 2.00 | 1960 |  4018 | 1.0 | 0 | 0 | 5 | ⋯ | 1950 | 0 | 0 | 98108 | 1240 |   4641 | 65 | 13.0 | 118 | 6.52 |\n",
       "| 5 | 5 | 449950 | 3 | 1.75 | 1470 |  7590 | 1.0 | 0 | 0 | 3 | ⋯ | 1988 | 0 | 0 | 98117 | 1700 |   5080 | 27 |  6.8 |  98 | 8.18 |\n",
       "| 6 | 6 | 243000 | 3 | 1.75 | 1450 | 12125 | 1.0 | 0 | 0 | 4 | ⋯ | 1981 | 0 | 0 | 98001 | 1210 |  12125 | 34 | 14.1 | 209 | 6.23 |\n",
       "\n"
      ],
      "text/plain": [
       "  id price  bedrooms bathrooms sqft_living sqft_lot floors backyard view\n",
       "1 1  325000 3        2.25      1570        43350    1.0    0        2   \n",
       "2 2  745000 5        3.00      2400        10126    2.0    0        2   \n",
       "3 3  571000 4        1.00      1350         4000    1.5    0        0   \n",
       "4 4  395000 2        2.00      1960         4018    1.0    0        0   \n",
       "5 5  449950 3        1.75      1470         7590    1.0    0        0   \n",
       "6 6  243000 3        1.75      1450        12125    1.0    0        0   \n",
       "  condition ⋯ yr_built yr_renovated renovated zipcode sqft_living15 sqft_lot15\n",
       "1 4         ⋯ 1967     0            0         98022   1570          220849    \n",
       "2 3         ⋯ 1981     0            0         98126   2250            3946    \n",
       "3 3         ⋯ 1930     0            0         98117   1520            4000    \n",
       "4 5         ⋯ 1950     0            0         98108   1240            4641    \n",
       "5 3         ⋯ 1988     0            0         98117   1700            5080    \n",
       "6 4         ⋯ 1981     0            0         98001   1210           12125    \n",
       "  age appliance_age crime school_rating\n",
       "1 48  17.7          138   5.27         \n",
       "2 34   3.2          101   9.14         \n",
       "3 85   7.6          110   7.97         \n",
       "4 65  13.0          118   6.52         \n",
       "5 27   6.8           98   8.18         \n",
       "6 34  14.1          209   6.23         "
      ]
     },
     "metadata": {},
     "output_type": "display_data"
    }
   ],
   "source": [
    "head(housing)"
   ]
  },
  {
   "cell_type": "markdown",
   "metadata": {
    "deletable": false,
    "editable": false
   },
   "source": [
    "# Model #1 - First Order Regression Model with Quantitative and Qualitative Variables\n",
    "\n",
    "You have been asked to create a first order regression model for *price* as the response variable, and *sqft_living*, *sqft_above*, *age*, *bathrooms*, and *view* as predictor variables. Before writing any code, review Section 3 of the Summary Report template to see the questions you will be answering about your first order multiple regression model.\n",
    "\n",
    "Run your scripts to get the outputs of your regression analysis. Then use the outputs to answer the questions in your summary report.\n",
    "\n",
    "**Note: Use the + (plus) button to add new code blocks, if needed.**"
   ]
  },
  {
   "cell_type": "code",
   "execution_count": 11,
   "metadata": {},
   "outputs": [
    {
     "data": {
      "image/png": "[encoded data removed]",
      "text/plain": [
       "Plot with title \"Scatterplot of Price and Square Foot\""
      ]
     },
     "metadata": {
      "image/png": {
       "height": 420,
       "width": 420
      }
     },
     "output_type": "display_data"
    }
   ],
   "source": [
    "plot(housing$price, housing$sqft_living, \n",
    "     main = \"Scatterplot of Price and Square Foot\",\n",
    "     xlab = \"Price\", ylab = \"Square Foot\",\n",
    "     col=\"green\", \n",
    "     pch = 19, frame = FALSE)"
   ]
  },
  {
   "cell_type": "code",
   "execution_count": 12,
   "metadata": {},
   "outputs": [
    {
     "data": {
      "image/png": "[encoded data removed]",
      "text/plain": [
       "Plot with title \"Scatterplot of Price and Age\""
      ]
     },
     "metadata": {
      "image/png": {
       "height": 420,
       "width": 420
      }
     },
     "output_type": "display_data"
    }
   ],
   "source": [
    "plot(housing$price, housing$age, \n",
    "     main = \"Scatterplot of Price and Age\",\n",
    "     xlab = \"Price\", ylab = \"Age\",\n",
    "     col=\"blue\", \n",
    "     pch = 19, frame = FALSE)"
   ]
  },
  {
   "cell_type": "code",
   "execution_count": 9,
   "metadata": {},
   "outputs": [
    {
     "name": "stdout",
     "output_type": "stream",
     "text": [
      "[1] \"cor\"\n"
     ]
    },
    {
     "data": {
      "text/html": [
       "<table class=\"dataframe\">\n",
       "<caption>A matrix: 2 × 2 of type dbl</caption>\n",
       "<thead>\n",
       "\t<tr><th></th><th scope=col>price</th><th scope=col>sqft_living</th></tr>\n",
       "</thead>\n",
       "<tbody>\n",
       "\t<tr><th scope=row>price</th><td>1.0000</td><td>0.6895</td></tr>\n",
       "\t<tr><th scope=row>sqft_living</th><td>0.6895</td><td>1.0000</td></tr>\n",
       "</tbody>\n",
       "</table>\n"
      ],
      "text/latex": [
       "A matrix: 2 × 2 of type dbl\n",
       "\\begin{tabular}{r|ll}\n",
       "  & price & sqft\\_living\\\\\n",
       "\\hline\n",
       "\tprice & 1.0000 & 0.6895\\\\\n",
       "\tsqft\\_living & 0.6895 & 1.0000\\\\\n",
       "\\end{tabular}\n"
      ],
      "text/markdown": [
       "\n",
       "A matrix: 2 × 2 of type dbl\n",
       "\n",
       "| <!--/--> | price | sqft_living |\n",
       "|---|---|---|\n",
       "| price | 1.0000 | 0.6895 |\n",
       "| sqft_living | 0.6895 | 1.0000 |\n",
       "\n"
      ],
      "text/plain": [
       "            price  sqft_living\n",
       "price       1.0000 0.6895     \n",
       "sqft_living 0.6895 1.0000     "
      ]
     },
     "metadata": {},
     "output_type": "display_data"
    }
   ],
   "source": [
    "myvars1 <- c(\"price\",\"sqft_living\")\n",
    "hous_subset1 <- housing[myvars1]\n",
    "\n",
    "print(\"cor\")\n",
    "corr_matrix <- cor(hous_subset1, method = \"pearson\")\n",
    "round(corr_matrix, 4)"
   ]
  },
  {
   "cell_type": "code",
   "execution_count": 10,
   "metadata": {},
   "outputs": [
    {
     "name": "stdout",
     "output_type": "stream",
     "text": [
      "[1] \"cor\"\n"
     ]
    },
    {
     "data": {
      "text/html": [
       "<table class=\"dataframe\">\n",
       "<caption>A matrix: 2 × 2 of type dbl</caption>\n",
       "<thead>\n",
       "\t<tr><th></th><th scope=col>price</th><th scope=col>age</th></tr>\n",
       "</thead>\n",
       "<tbody>\n",
       "\t<tr><th scope=row>price</th><td> 1.0000</td><td>-0.0746</td></tr>\n",
       "\t<tr><th scope=row>age</th><td>-0.0746</td><td> 1.0000</td></tr>\n",
       "</tbody>\n",
       "</table>\n"
      ],
      "text/latex": [
       "A matrix: 2 × 2 of type dbl\n",
       "\\begin{tabular}{r|ll}\n",
       "  & price & age\\\\\n",
       "\\hline\n",
       "\tprice &  1.0000 & -0.0746\\\\\n",
       "\tage & -0.0746 &  1.0000\\\\\n",
       "\\end{tabular}\n"
      ],
      "text/markdown": [
       "\n",
       "A matrix: 2 × 2 of type dbl\n",
       "\n",
       "| <!--/--> | price | age |\n",
       "|---|---|---|\n",
       "| price |  1.0000 | -0.0746 |\n",
       "| age | -0.0746 |  1.0000 |\n",
       "\n"
      ],
      "text/plain": [
       "      price   age    \n",
       "price  1.0000 -0.0746\n",
       "age   -0.0746  1.0000"
      ]
     },
     "metadata": {},
     "output_type": "display_data"
    }
   ],
   "source": [
    "\n",
    "myvars2 <- c(\"price\",\"age\")\n",
    "hous_subset2 <- housing[myvars2]\n",
    "\n",
    "print(\"cor\")\n",
    "corr_matrix <- cor(hous_subset2, method = \"pearson\")\n",
    "round(corr_matrix, 4)"
   ]
  },
  {
   "cell_type": "code",
   "execution_count": 23,
   "metadata": {},
   "outputs": [
    {
     "data": {
      "text/plain": [
       "\n",
       "Call:\n",
       "lm(formula = price ~ sqft_living + sqft_above + age + bathrooms + \n",
       "    view, data = housing)\n",
       "\n",
       "Residuals:\n",
       "    Min      1Q  Median      3Q     Max \n",
       "-419299 -101792   -5606   93896  489323 \n",
       "\n",
       "Coefficients:\n",
       "             Estimate Std. Error t value Pr(>|t|)    \n",
       "(Intercept) 7.709e+03  1.411e+04   0.546  0.58495    \n",
       "sqft_living 1.293e+02  8.123e+00  15.916  < 2e-16 ***\n",
       "sqft_above  1.951e+01  7.458e+00   2.616  0.00894 ** \n",
       "age         1.451e+03  1.199e+02  12.098  < 2e-16 ***\n",
       "bathrooms   4.397e+04  6.126e+03   7.178 9.13e-13 ***\n",
       "view1       1.675e+05  1.071e+04  15.640  < 2e-16 ***\n",
       "view2       2.490e+05  1.201e+04  20.739  < 2e-16 ***\n",
       "---\n",
       "Signif. codes:  0 '***' 0.001 '**' 0.01 '*' 0.05 '.' 0.1 ' ' 1\n",
       "\n",
       "Residual standard error: 133600 on 2685 degrees of freedom\n",
       "Multiple R-squared:  0.6029,\tAdjusted R-squared:  0.602 \n",
       "F-statistic: 679.3 on 6 and 2685 DF,  p-value: < 2.2e-16\n"
      ]
     },
     "metadata": {},
     "output_type": "display_data"
    }
   ],
   "source": [
    "model1 <- lm(price ~ sqft_living + sqft_above + age + bathrooms + view, data=housing)\n",
    "summary(model1)"
   ]
  },
  {
   "cell_type": "code",
   "execution_count": 37,
   "metadata": {},
   "outputs": [
    {
     "name": "stdout",
     "output_type": "stream",
     "text": [
      "[1] \"fitted\"\n"
     ]
    },
    {
     "data": {
      "text/html": [
       "<style>\n",
       ".dl-inline {width: auto; margin:0; padding: 0}\n",
       ".dl-inline>dt, .dl-inline>dd {float: none; width: auto; display: inline-block}\n",
       ".dl-inline>dt::after {content: \":\\0020\"; padding-right: .5ex}\n",
       ".dl-inline>dt:not(:first-of-type) {padding-left: .5ex}\n",
       "</style><dl class=dl-inline><dt>1</dt><dd>658919.967482857</dd><dt>2</dt><dd>795090.15103101</dd><dt>3</dt><dd>375857.057567997</dd><dt>4</dt><dd>462458.988529034</dd><dt>5</dt><dd>342554.4912002</dd><dt>6</dt><dd>349732.873799104</dd></dl>\n"
      ],
      "text/latex": [
       "\\begin{description*}\n",
       "\\item[1] 658919.967482857\n",
       "\\item[2] 795090.15103101\n",
       "\\item[3] 375857.057567997\n",
       "\\item[4] 462458.988529034\n",
       "\\item[5] 342554.4912002\n",
       "\\item[6] 349732.873799104\n",
       "\\end{description*}\n"
      ],
      "text/markdown": [
       "1\n",
       ":   658919.9674828572\n",
       ":   795090.151031013\n",
       ":   375857.0575679974\n",
       ":   462458.9885290345\n",
       ":   342554.49120026\n",
       ":   349732.873799104\n",
       "\n"
      ],
      "text/plain": [
       "       1        2        3        4        5        6 \n",
       "658920.0 795090.2 375857.1 462459.0 342554.5 349732.9 "
      ]
     },
     "metadata": {},
     "output_type": "display_data"
    }
   ],
   "source": [
    "print(\"fitted\")\n",
    "fitted_values <- fitted.values(model1) \n",
    "head(fitted_values)"
   ]
  },
  {
   "cell_type": "code",
   "execution_count": 38,
   "metadata": {},
   "outputs": [
    {
     "name": "stdout",
     "output_type": "stream",
     "text": [
      "[1] \"residuals\"\n"
     ]
    },
    {
     "data": {
      "text/html": [
       "<style>\n",
       ".dl-inline {width: auto; margin:0; padding: 0}\n",
       ".dl-inline>dt, .dl-inline>dd {float: none; width: auto; display: inline-block}\n",
       ".dl-inline>dt::after {content: \":\\0020\"; padding-right: .5ex}\n",
       ".dl-inline>dt:not(:first-of-type) {padding-left: .5ex}\n",
       "</style><dl class=dl-inline><dt>1</dt><dd>-333919.967482857</dd><dt>2</dt><dd>-50090.1510310101</dd><dt>3</dt><dd>195142.942432003</dd><dt>4</dt><dd>-67458.9885290341</dd><dt>5</dt><dd>107395.5087998</dd><dt>6</dt><dd>-106732.873799104</dd></dl>\n"
      ],
      "text/latex": [
       "\\begin{description*}\n",
       "\\item[1] -333919.967482857\n",
       "\\item[2] -50090.1510310101\n",
       "\\item[3] 195142.942432003\n",
       "\\item[4] -67458.9885290341\n",
       "\\item[5] 107395.5087998\n",
       "\\item[6] -106732.873799104\n",
       "\\end{description*}\n"
      ],
      "text/markdown": [
       "1\n",
       ":   -333919.9674828572\n",
       ":   -50090.15103101013\n",
       ":   195142.9424320034\n",
       ":   -67458.98852903415\n",
       ":   107395.50879986\n",
       ":   -106732.873799104\n",
       "\n"
      ],
      "text/plain": [
       "         1          2          3          4          5          6 \n",
       "-333919.97  -50090.15  195142.94  -67458.99  107395.51 -106732.87 "
      ]
     },
     "metadata": {},
     "output_type": "display_data"
    }
   ],
   "source": [
    "print(\"residuals\")\n",
    "residuals <- residuals(model1) \n",
    "head(residuals)"
   ]
  },
  {
   "cell_type": "code",
   "execution_count": 39,
   "metadata": {},
   "outputs": [
    {
     "data": {
      "image/png": "[encoded data removed]",
      "text/plain": [
       "Plot with title \"Residuals against Fitted Values\""
      ]
     },
     "metadata": {
      "image/png": {
       "height": 420,
       "width": 420
      }
     },
     "output_type": "display_data"
    }
   ],
   "source": [
    "plot(fitted_values, residuals, \n",
    "     main = \"Residuals against Fitted Values\",\n",
    "     xlab = \"Fitted Values\", ylab = \"Residuals\",\n",
    "     col=\"red\", \n",
    "     pch = 19, frame = FALSE)\n",
    "abline(h = 0, col = \"blue\") "
   ]
  },
  {
   "cell_type": "code",
   "execution_count": 40,
   "metadata": {},
   "outputs": [
    {
     "data": {
      "image/png": "[encoded data removed]",
      "text/plain": [
       "Plot with title \"Normal Q-Q Plot\""
      ]
     },
     "metadata": {
      "image/png": {
       "height": 420,
       "width": 420
      }
     },
     "output_type": "display_data"
    }
   ],
   "source": [
    "qqnorm(residuals, pch = 19, col=\"red\", frame = FALSE)\n",
    "qqline(residuals, col = \"blue\", lwd = 2)"
   ]
  },
  {
   "cell_type": "code",
   "execution_count": 41,
   "metadata": {},
   "outputs": [
    {
     "name": "stdout",
     "output_type": "stream",
     "text": [
      "[1] \"confint\"\n"
     ]
    },
    {
     "data": {
      "text/html": [
       "<table class=\"dataframe\">\n",
       "<caption>A matrix: 7 × 2 of type dbl</caption>\n",
       "<thead>\n",
       "\t<tr><th></th><th scope=col>5 %</th><th scope=col>95 %</th></tr>\n",
       "</thead>\n",
       "<tbody>\n",
       "\t<tr><th scope=row>(Intercept)</th><td>-15513.0058</td><td> 30931.1022</td></tr>\n",
       "\t<tr><th scope=row>sqft_living</th><td>   115.9193</td><td>   142.6499</td></tr>\n",
       "\t<tr><th scope=row>sqft_above</th><td>     7.2402</td><td>    31.7839</td></tr>\n",
       "\t<tr><th scope=row>age</th><td>  1253.3171</td><td>  1647.9160</td></tr>\n",
       "\t<tr><th scope=row>bathrooms</th><td> 33890.4136</td><td> 54049.8359</td></tr>\n",
       "\t<tr><th scope=row>view1</th><td>149870.7002</td><td>185112.3814</td></tr>\n",
       "\t<tr><th scope=row>view2</th><td>229279.0983</td><td>268796.5052</td></tr>\n",
       "</tbody>\n",
       "</table>\n"
      ],
      "text/latex": [
       "A matrix: 7 × 2 of type dbl\n",
       "\\begin{tabular}{r|ll}\n",
       "  & 5 \\% & 95 \\%\\\\\n",
       "\\hline\n",
       "\t(Intercept) & -15513.0058 &  30931.1022\\\\\n",
       "\tsqft\\_living &    115.9193 &    142.6499\\\\\n",
       "\tsqft\\_above &      7.2402 &     31.7839\\\\\n",
       "\tage &   1253.3171 &   1647.9160\\\\\n",
       "\tbathrooms &  33890.4136 &  54049.8359\\\\\n",
       "\tview1 & 149870.7002 & 185112.3814\\\\\n",
       "\tview2 & 229279.0983 & 268796.5052\\\\\n",
       "\\end{tabular}\n"
      ],
      "text/markdown": [
       "\n",
       "A matrix: 7 × 2 of type dbl\n",
       "\n",
       "| <!--/--> | 5 % | 95 % |\n",
       "|---|---|---|\n",
       "| (Intercept) | -15513.0058 |  30931.1022 |\n",
       "| sqft_living |    115.9193 |    142.6499 |\n",
       "| sqft_above |      7.2402 |     31.7839 |\n",
       "| age |   1253.3171 |   1647.9160 |\n",
       "| bathrooms |  33890.4136 |  54049.8359 |\n",
       "| view1 | 149870.7002 | 185112.3814 |\n",
       "| view2 | 229279.0983 | 268796.5052 |\n",
       "\n"
      ],
      "text/plain": [
       "            5 %         95 %       \n",
       "(Intercept) -15513.0058  30931.1022\n",
       "sqft_living    115.9193    142.6499\n",
       "sqft_above       7.2402     31.7839\n",
       "age           1253.3171   1647.9160\n",
       "bathrooms    33890.4136  54049.8359\n",
       "view1       149870.7002 185112.3814\n",
       "view2       229279.0983 268796.5052"
      ]
     },
     "metadata": {},
     "output_type": "display_data"
    }
   ],
   "source": [
    "print(\"confint\")\n",
    "conf_95_int <- confint(model1, level=0.90) \n",
    "round(conf_95_int, 4)"
   ]
  },
  {
   "cell_type": "code",
   "execution_count": 25,
   "metadata": {},
   "outputs": [
    {
     "name": "stdout",
     "output_type": "stream",
     "text": [
      "[1] \"prediction interval\"\n"
     ]
    },
    {
     "data": {
      "text/html": [
       "<table class=\"dataframe\">\n",
       "<caption>A matrix: 1 × 3 of type dbl</caption>\n",
       "<thead>\n",
       "\t<tr><th></th><th scope=col>fit</th><th scope=col>lwr</th><th scope=col>upr</th></tr>\n",
       "</thead>\n",
       "<tbody>\n",
       "\t<tr><th scope=row>1</th><td>459828.2</td><td>239563</td><td>680093.4</td></tr>\n",
       "</tbody>\n",
       "</table>\n"
      ],
      "text/latex": [
       "A matrix: 1 × 3 of type dbl\n",
       "\\begin{tabular}{r|lll}\n",
       "  & fit & lwr & upr\\\\\n",
       "\\hline\n",
       "\t1 & 459828.2 & 239563 & 680093.4\\\\\n",
       "\\end{tabular}\n"
      ],
      "text/markdown": [
       "\n",
       "A matrix: 1 × 3 of type dbl\n",
       "\n",
       "| <!--/--> | fit | lwr | upr |\n",
       "|---|---|---|---|\n",
       "| 1 | 459828.2 | 239563 | 680093.4 |\n",
       "\n"
      ],
      "text/plain": [
       "  fit      lwr    upr     \n",
       "1 459828.2 239563 680093.4"
      ]
     },
     "metadata": {},
     "output_type": "display_data"
    },
    {
     "name": "stdout",
     "output_type": "stream",
     "text": [
      "[1] \"confidence interval\"\n"
     ]
    },
    {
     "data": {
      "text/html": [
       "<table class=\"dataframe\">\n",
       "<caption>A matrix: 1 × 3 of type dbl</caption>\n",
       "<thead>\n",
       "\t<tr><th></th><th scope=col>fit</th><th scope=col>lwr</th><th scope=col>upr</th></tr>\n",
       "</thead>\n",
       "<tbody>\n",
       "\t<tr><th scope=row>1</th><td>459828.2</td><td>446087.9</td><td>473568.5</td></tr>\n",
       "</tbody>\n",
       "</table>\n"
      ],
      "text/latex": [
       "A matrix: 1 × 3 of type dbl\n",
       "\\begin{tabular}{r|lll}\n",
       "  & fit & lwr & upr\\\\\n",
       "\\hline\n",
       "\t1 & 459828.2 & 446087.9 & 473568.5\\\\\n",
       "\\end{tabular}\n"
      ],
      "text/markdown": [
       "\n",
       "A matrix: 1 × 3 of type dbl\n",
       "\n",
       "| <!--/--> | fit | lwr | upr |\n",
       "|---|---|---|---|\n",
       "| 1 | 459828.2 | 446087.9 | 473568.5 |\n",
       "\n"
      ],
      "text/plain": [
       "  fit      lwr      upr     \n",
       "1 459828.2 446087.9 473568.5"
      ]
     },
     "metadata": {},
     "output_type": "display_data"
    }
   ],
   "source": [
    "newdata <- data.frame(sqft_living=2150, sqft_above=1050, age=15, bathrooms=3, view='0')\n",
    "\n",
    "print(\"prediction interval\")\n",
    "prediction_pred_int <- predict(model1, newdata, interval=\"predict\", level=0.90) \n",
    "round(prediction_pred_int, 4)\n",
    "\n",
    "print(\"confidence interval\")\n",
    "prediction_conf_int <- predict(model1, newdata, interval=\"confidence\", level=0.90) \n",
    "round(prediction_conf_int, 4)"
   ]
  },
  {
   "cell_type": "code",
   "execution_count": 26,
   "metadata": {},
   "outputs": [
    {
     "name": "stdout",
     "output_type": "stream",
     "text": [
      "[1] \"prediction interval\"\n"
     ]
    },
    {
     "data": {
      "text/html": [
       "<table class=\"dataframe\">\n",
       "<caption>A matrix: 1 × 3 of type dbl</caption>\n",
       "<thead>\n",
       "\t<tr><th></th><th scope=col>fit</th><th scope=col>lwr</th><th scope=col>upr</th></tr>\n",
       "</thead>\n",
       "<tbody>\n",
       "\t<tr><th scope=row>1</th><td>1074285</td><td>852522.6</td><td>1296048</td></tr>\n",
       "</tbody>\n",
       "</table>\n"
      ],
      "text/latex": [
       "A matrix: 1 × 3 of type dbl\n",
       "\\begin{tabular}{r|lll}\n",
       "  & fit & lwr & upr\\\\\n",
       "\\hline\n",
       "\t1 & 1074285 & 852522.6 & 1296048\\\\\n",
       "\\end{tabular}\n"
      ],
      "text/markdown": [
       "\n",
       "A matrix: 1 × 3 of type dbl\n",
       "\n",
       "| <!--/--> | fit | lwr | upr |\n",
       "|---|---|---|---|\n",
       "| 1 | 1074285 | 852522.6 | 1296048 |\n",
       "\n"
      ],
      "text/plain": [
       "  fit     lwr      upr    \n",
       "1 1074285 852522.6 1296048"
      ]
     },
     "metadata": {},
     "output_type": "display_data"
    },
    {
     "name": "stdout",
     "output_type": "stream",
     "text": [
      "[1] \"confidence interval\"\n"
     ]
    },
    {
     "data": {
      "text/html": [
       "<table class=\"dataframe\">\n",
       "<caption>A matrix: 1 × 3 of type dbl</caption>\n",
       "<thead>\n",
       "\t<tr><th></th><th scope=col>fit</th><th scope=col>lwr</th><th scope=col>upr</th></tr>\n",
       "</thead>\n",
       "<tbody>\n",
       "\t<tr><th scope=row>1</th><td>1074285</td><td>1045117</td><td>1103454</td></tr>\n",
       "</tbody>\n",
       "</table>\n"
      ],
      "text/latex": [
       "A matrix: 1 × 3 of type dbl\n",
       "\\begin{tabular}{r|lll}\n",
       "  & fit & lwr & upr\\\\\n",
       "\\hline\n",
       "\t1 & 1074285 & 1045117 & 1103454\\\\\n",
       "\\end{tabular}\n"
      ],
      "text/markdown": [
       "\n",
       "A matrix: 1 × 3 of type dbl\n",
       "\n",
       "| <!--/--> | fit | lwr | upr |\n",
       "|---|---|---|---|\n",
       "| 1 | 1074285 | 1045117 | 1103454 |\n",
       "\n"
      ],
      "text/plain": [
       "  fit     lwr     upr    \n",
       "1 1074285 1045117 1103454"
      ]
     },
     "metadata": {},
     "output_type": "display_data"
    }
   ],
   "source": [
    "newdata <- data.frame(sqft_living=4250, sqft_above=2100, age=5, bathrooms=5, view='2')\n",
    "\n",
    "print(\"prediction interval\")\n",
    "prediction_pred_int <- predict(model1, newdata, interval=\"predict\", level=0.90) \n",
    "round(prediction_pred_int, 4)\n",
    "\n",
    "print(\"confidence interval\")\n",
    "prediction_conf_int <- predict(model1, newdata, interval=\"confidence\", level=0.90) \n",
    "round(prediction_conf_int, 4)"
   ]
  },
  {
   "cell_type": "markdown",
   "metadata": {
    "deletable": false,
    "editable": false
   },
   "source": [
    "# Model #2 - Complete Second Order Regression Model with Quantitative Variables\n",
    "\n",
    "You have been asked to create a complete second order regression model for *price* as the response variable, and *school_rating* and *crime* as predictor variables. Before writing any code, review Section 4 of the Summary Report template to see the questions you will be answering about your complete second order multiple regression model.\n",
    "\n",
    "Run your scripts to get the outputs of your regression analysis. Then use the outputs to answer the questions in your summary report.\n",
    "\n",
    "**Note: Use the + (plus) button to add new code blocks, if needed.**"
   ]
  },
  {
   "cell_type": "code",
   "execution_count": 13,
   "metadata": {},
   "outputs": [
    {
     "data": {
      "image/png": "[encoded data removed]",
      "text/plain": [
       "Plot with title \"Scatterplot of Price and School Rating\""
      ]
     },
     "metadata": {
      "image/png": {
       "height": 420,
       "width": 420
      }
     },
     "output_type": "display_data"
    }
   ],
   "source": [
    "plot(housing$price, housing$school_rating, \n",
    "     main = \"Scatterplot of Price and School Rating\",\n",
    "     xlab = \"Price\", ylab = \"School Rating\",\n",
    "     col=\"pink\", \n",
    "     pch = 19, frame = FALSE)"
   ]
  },
  {
   "cell_type": "code",
   "execution_count": 17,
   "metadata": {},
   "outputs": [
    {
     "data": {
      "image/png": "[encoded data removed]",
      "text/plain": [
       "Plot with title \"Scatterplot of Price and Crime\""
      ]
     },
     "metadata": {
      "image/png": {
       "height": 420,
       "width": 420
      }
     },
     "output_type": "display_data"
    }
   ],
   "source": [
    "plot(housing$price, housing$crime, \n",
    "     main = \"Scatterplot of Price and Crime\",\n",
    "     xlab = \"Price\", ylab = \"Crime\",\n",
    "     col=\"purple\", \n",
    "     pch = 19, frame = FALSE)"
   ]
  },
  {
   "cell_type": "code",
   "execution_count": 42,
   "metadata": {},
   "outputs": [
    {
     "data": {
      "text/plain": [
       "\n",
       "Call:\n",
       "lm(formula = price ~ school_rating + crime + school_rating:crime + \n",
       "    I(school_rating^2) + I(crime^2), data = housing)\n",
       "\n",
       "Residuals:\n",
       "    Min      1Q  Median      3Q     Max \n",
       "-340729  -61055   -6288   56875  427915 \n",
       "\n",
       "Coefficients:\n",
       "                      Estimate Std. Error t value Pr(>|t|)    \n",
       "(Intercept)          7.339e+05  1.032e+05   7.113 1.45e-12 ***\n",
       "school_rating       -7.375e+04  2.083e+04  -3.541 0.000406 ***\n",
       "crime               -3.155e+03  5.235e+02  -6.027 1.90e-09 ***\n",
       "I(school_rating^2)   1.165e+04  1.109e+03  10.497  < 2e-16 ***\n",
       "I(crime^2)           6.377e+00  7.265e-01   8.777  < 2e-16 ***\n",
       "school_rating:crime -5.227e+01  4.853e+01  -1.077 0.281513    \n",
       "---\n",
       "Signif. codes:  0 '***' 0.001 '**' 0.01 '*' 0.05 '.' 0.1 ' ' 1\n",
       "\n",
       "Residual standard error: 92690 on 2686 degrees of freedom\n",
       "Multiple R-squared:  0.8088,\tAdjusted R-squared:  0.8084 \n",
       "F-statistic:  2272 on 5 and 2686 DF,  p-value: < 2.2e-16\n"
      ]
     },
     "metadata": {},
     "output_type": "display_data"
    }
   ],
   "source": [
    "model2 <- lm(price ~ school_rating + crime + school_rating:crime + I(school_rating^2) + I(crime^2) , data=housing)\n",
    "summary(model2)"
   ]
  },
  {
   "cell_type": "code",
   "execution_count": 47,
   "metadata": {},
   "outputs": [
    {
     "name": "stdout",
     "output_type": "stream",
     "text": [
      "[1] \"fitted\"\n"
     ]
    },
    {
     "data": {
      "text/html": [
       "<style>\n",
       ".dl-inline {width: auto; margin:0; padding: 0}\n",
       ".dl-inline>dt, .dl-inline>dd {float: none; width: auto; display: inline-block}\n",
       ".dl-inline>dt::after {content: \":\\0020\"; padding-right: .5ex}\n",
       ".dl-inline>dt:not(:first-of-type) {padding-left: .5ex}\n",
       "</style><dl class=dl-inline><dt>1</dt><dd>316795.870380673</dd><dt>2</dt><dd>730990.249093357</dd><dt>3</dt><dd>570266.168436524</dd><dt>4</dt><dd>424499.963474654</dd><dt>5</dt><dd>620142.715084433</dd><dt>6</dt><dd>277655.203917153</dd></dl>\n"
      ],
      "text/latex": [
       "\\begin{description*}\n",
       "\\item[1] 316795.870380673\n",
       "\\item[2] 730990.249093357\n",
       "\\item[3] 570266.168436524\n",
       "\\item[4] 424499.963474654\n",
       "\\item[5] 620142.715084433\n",
       "\\item[6] 277655.203917153\n",
       "\\end{description*}\n"
      ],
      "text/markdown": [
       "1\n",
       ":   316795.8703806732\n",
       ":   730990.2490933573\n",
       ":   570266.1684365244\n",
       ":   424499.9634746545\n",
       ":   620142.7150844336\n",
       ":   277655.203917153\n",
       "\n"
      ],
      "text/plain": [
       "       1        2        3        4        5        6 \n",
       "316795.9 730990.2 570266.2 424500.0 620142.7 277655.2 "
      ]
     },
     "metadata": {},
     "output_type": "display_data"
    }
   ],
   "source": [
    "print(\"fitted\")\n",
    "fitted_values <- fitted.values(model2) \n",
    "head(fitted_values)"
   ]
  },
  {
   "cell_type": "code",
   "execution_count": 48,
   "metadata": {},
   "outputs": [
    {
     "name": "stdout",
     "output_type": "stream",
     "text": [
      "[1] \"residuals\"\n"
     ]
    },
    {
     "data": {
      "text/html": [
       "<style>\n",
       ".dl-inline {width: auto; margin:0; padding: 0}\n",
       ".dl-inline>dt, .dl-inline>dd {float: none; width: auto; display: inline-block}\n",
       ".dl-inline>dt::after {content: \":\\0020\"; padding-right: .5ex}\n",
       ".dl-inline>dt:not(:first-of-type) {padding-left: .5ex}\n",
       "</style><dl class=dl-inline><dt>1</dt><dd>8204.12961932685</dd><dt>2</dt><dd>14009.7509066431</dd><dt>3</dt><dd>733.831563475559</dd><dt>4</dt><dd>-29499.9634746537</dd><dt>5</dt><dd>-170192.715084433</dd><dt>6</dt><dd>-34655.2039171533</dd></dl>\n"
      ],
      "text/latex": [
       "\\begin{description*}\n",
       "\\item[1] 8204.12961932685\n",
       "\\item[2] 14009.7509066431\n",
       "\\item[3] 733.831563475559\n",
       "\\item[4] -29499.9634746537\n",
       "\\item[5] -170192.715084433\n",
       "\\item[6] -34655.2039171533\n",
       "\\end{description*}\n"
      ],
      "text/markdown": [
       "1\n",
       ":   8204.129619326852\n",
       ":   14009.75090664313\n",
       ":   733.8315634755594\n",
       ":   -29499.96347465375\n",
       ":   -170192.7150844336\n",
       ":   -34655.2039171533\n",
       "\n"
      ],
      "text/plain": [
       "           1            2            3            4            5            6 \n",
       "   8204.1296   14009.7509     733.8316  -29499.9635 -170192.7151  -34655.2039 "
      ]
     },
     "metadata": {},
     "output_type": "display_data"
    }
   ],
   "source": [
    "print(\"residuals\")\n",
    "residuals <- residuals(model2)\n",
    "head(residuals)"
   ]
  },
  {
   "cell_type": "code",
   "execution_count": 49,
   "metadata": {},
   "outputs": [
    {
     "data": {
      "image/png": "[encoded data removed]",
      "text/plain": [
       "Plot with title \"Residuals against Fitted Values\""
      ]
     },
     "metadata": {
      "image/png": {
       "height": 420,
       "width": 420
      }
     },
     "output_type": "display_data"
    }
   ],
   "source": [
    "plot(fitted_values, residuals, \n",
    "     main = \"Residuals against Fitted Values\",\n",
    "     xlab = \"Fitted Values\", ylab = \"Residuals\",\n",
    "     col=\"red\", \n",
    "     pch = 19, frame = FALSE)\n",
    "abline(h = 0, col = \"blue\") "
   ]
  },
  {
   "cell_type": "code",
   "execution_count": 50,
   "metadata": {},
   "outputs": [
    {
     "data": {
      "image/png": "[encoded data removed]",
      "text/plain": [
       "Plot with title \"Normal Q-Q Plot\""
      ]
     },
     "metadata": {
      "image/png": {
       "height": 420,
       "width": 420
      }
     },
     "output_type": "display_data"
    }
   ],
   "source": [
    "qqnorm(residuals, pch = 19, col=\"red\", frame = FALSE)\n",
    "qqline(residuals, col = \"blue\", lwd = 2)"
   ]
  },
  {
   "cell_type": "code",
   "execution_count": 46,
   "metadata": {},
   "outputs": [
    {
     "name": "stdout",
     "output_type": "stream",
     "text": [
      "[1] \"confint\"\n"
     ]
    },
    {
     "data": {
      "text/html": [
       "<table class=\"dataframe\">\n",
       "<caption>A matrix: 6 × 2 of type dbl</caption>\n",
       "<thead>\n",
       "\t<tr><th></th><th scope=col>5 %</th><th scope=col>95 %</th></tr>\n",
       "</thead>\n",
       "<tbody>\n",
       "\t<tr><th scope=row>(Intercept)</th><td> 564127.8529</td><td>903693.6158</td></tr>\n",
       "\t<tr><th scope=row>school_rating</th><td>-108021.8320</td><td>-39474.5138</td></tr>\n",
       "\t<tr><th scope=row>crime</th><td>  -4016.0800</td><td> -2293.4529</td></tr>\n",
       "\t<tr><th scope=row>I(school_rating^2)</th><td>   9821.2268</td><td> 13472.3788</td></tr>\n",
       "\t<tr><th scope=row>I(crime^2)</th><td>      5.1816</td><td>     7.5724</td></tr>\n",
       "\t<tr><th scope=row>school_rating:crime</th><td>   -132.1146</td><td>    27.5761</td></tr>\n",
       "</tbody>\n",
       "</table>\n"
      ],
      "text/latex": [
       "A matrix: 6 × 2 of type dbl\n",
       "\\begin{tabular}{r|ll}\n",
       "  & 5 \\% & 95 \\%\\\\\n",
       "\\hline\n",
       "\t(Intercept) &  564127.8529 & 903693.6158\\\\\n",
       "\tschool\\_rating & -108021.8320 & -39474.5138\\\\\n",
       "\tcrime &   -4016.0800 &  -2293.4529\\\\\n",
       "\tI(school\\_rating\\textasciicircum{}2) &    9821.2268 &  13472.3788\\\\\n",
       "\tI(crime\\textasciicircum{}2) &       5.1816 &      7.5724\\\\\n",
       "\tschool\\_rating:crime &    -132.1146 &     27.5761\\\\\n",
       "\\end{tabular}\n"
      ],
      "text/markdown": [
       "\n",
       "A matrix: 6 × 2 of type dbl\n",
       "\n",
       "| <!--/--> | 5 % | 95 % |\n",
       "|---|---|---|\n",
       "| (Intercept) |  564127.8529 | 903693.6158 |\n",
       "| school_rating | -108021.8320 | -39474.5138 |\n",
       "| crime |   -4016.0800 |  -2293.4529 |\n",
       "| I(school_rating^2) |    9821.2268 |  13472.3788 |\n",
       "| I(crime^2) |       5.1816 |      7.5724 |\n",
       "| school_rating:crime |    -132.1146 |     27.5761 |\n",
       "\n"
      ],
      "text/plain": [
       "                    5 %          95 %       \n",
       "(Intercept)          564127.8529 903693.6158\n",
       "school_rating       -108021.8320 -39474.5138\n",
       "crime                 -4016.0800  -2293.4529\n",
       "I(school_rating^2)     9821.2268  13472.3788\n",
       "I(crime^2)                5.1816      7.5724\n",
       "school_rating:crime    -132.1146     27.5761"
      ]
     },
     "metadata": {},
     "output_type": "display_data"
    }
   ],
   "source": [
    "# confidence intervals for model parameters\n",
    "print(\"confint\")\n",
    "conf_95_int <- confint(model2, level=0.90) \n",
    "round(conf_95_int, 4)"
   ]
  },
  {
   "cell_type": "code",
   "execution_count": 45,
   "metadata": {},
   "outputs": [
    {
     "name": "stdout",
     "output_type": "stream",
     "text": [
      "[1] \"prediction interval\"\n"
     ]
    },
    {
     "data": {
      "text/html": [
       "<table class=\"dataframe\">\n",
       "<caption>A matrix: 1 × 3 of type dbl</caption>\n",
       "<thead>\n",
       "\t<tr><th></th><th scope=col>fit</th><th scope=col>lwr</th><th scope=col>upr</th></tr>\n",
       "</thead>\n",
       "<tbody>\n",
       "\t<tr><th scope=row>1</th><td>874497</td><td>721606.2</td><td>1027388</td></tr>\n",
       "</tbody>\n",
       "</table>\n"
      ],
      "text/latex": [
       "A matrix: 1 × 3 of type dbl\n",
       "\\begin{tabular}{r|lll}\n",
       "  & fit & lwr & upr\\\\\n",
       "\\hline\n",
       "\t1 & 874497 & 721606.2 & 1027388\\\\\n",
       "\\end{tabular}\n"
      ],
      "text/markdown": [
       "\n",
       "A matrix: 1 × 3 of type dbl\n",
       "\n",
       "| <!--/--> | fit | lwr | upr |\n",
       "|---|---|---|---|\n",
       "| 1 | 874497 | 721606.2 | 1027388 |\n",
       "\n"
      ],
      "text/plain": [
       "  fit    lwr      upr    \n",
       "1 874497 721606.2 1027388"
      ]
     },
     "metadata": {},
     "output_type": "display_data"
    },
    {
     "name": "stdout",
     "output_type": "stream",
     "text": [
      "[1] \"confidence interval\"\n"
     ]
    },
    {
     "data": {
      "text/html": [
       "<table class=\"dataframe\">\n",
       "<caption>A matrix: 1 × 3 of type dbl</caption>\n",
       "<thead>\n",
       "\t<tr><th></th><th scope=col>fit</th><th scope=col>lwr</th><th scope=col>upr</th></tr>\n",
       "</thead>\n",
       "<tbody>\n",
       "\t<tr><th scope=row>1</th><td>874497</td><td>863681.4</td><td>885312.7</td></tr>\n",
       "</tbody>\n",
       "</table>\n"
      ],
      "text/latex": [
       "A matrix: 1 × 3 of type dbl\n",
       "\\begin{tabular}{r|lll}\n",
       "  & fit & lwr & upr\\\\\n",
       "\\hline\n",
       "\t1 & 874497 & 863681.4 & 885312.7\\\\\n",
       "\\end{tabular}\n"
      ],
      "text/markdown": [
       "\n",
       "A matrix: 1 × 3 of type dbl\n",
       "\n",
       "| <!--/--> | fit | lwr | upr |\n",
       "|---|---|---|---|\n",
       "| 1 | 874497 | 863681.4 | 885312.7 |\n",
       "\n"
      ],
      "text/plain": [
       "  fit    lwr      upr     \n",
       "1 874497 863681.4 885312.7"
      ]
     },
     "metadata": {},
     "output_type": "display_data"
    }
   ],
   "source": [
    "newdata <- data.frame(school_rating=9.80, crime=81.02)\n",
    "\n",
    "print(\"prediction interval\")\n",
    "prediction_pred_int <- predict(model2, newdata, interval=\"predict\", level=0.90) \n",
    "round(prediction_pred_int,4)\n",
    "\n",
    "print(\"confidence interval\")\n",
    "prediction_conf_int <- predict(model2, newdata, interval=\"confidence\", level=0.90) \n",
    "round(prediction_conf_int,4)"
   ]
  },
  {
   "cell_type": "code",
   "execution_count": 44,
   "metadata": {},
   "outputs": [
    {
     "name": "stdout",
     "output_type": "stream",
     "text": [
      "[1] \"prediction interval\"\n"
     ]
    },
    {
     "data": {
      "text/html": [
       "<table class=\"dataframe\">\n",
       "<caption>A matrix: 1 × 3 of type dbl</caption>\n",
       "<thead>\n",
       "\t<tr><th></th><th scope=col>fit</th><th scope=col>lwr</th><th scope=col>upr</th></tr>\n",
       "</thead>\n",
       "<tbody>\n",
       "\t<tr><th scope=row>1</th><td>199706.7</td><td>46991.65</td><td>352421.7</td></tr>\n",
       "</tbody>\n",
       "</table>\n"
      ],
      "text/latex": [
       "A matrix: 1 × 3 of type dbl\n",
       "\\begin{tabular}{r|lll}\n",
       "  & fit & lwr & upr\\\\\n",
       "\\hline\n",
       "\t1 & 199706.7 & 46991.65 & 352421.7\\\\\n",
       "\\end{tabular}\n"
      ],
      "text/markdown": [
       "\n",
       "A matrix: 1 × 3 of type dbl\n",
       "\n",
       "| <!--/--> | fit | lwr | upr |\n",
       "|---|---|---|---|\n",
       "| 1 | 199706.7 | 46991.65 | 352421.7 |\n",
       "\n"
      ],
      "text/plain": [
       "  fit      lwr      upr     \n",
       "1 199706.7 46991.65 352421.7"
      ]
     },
     "metadata": {},
     "output_type": "display_data"
    },
    {
     "name": "stdout",
     "output_type": "stream",
     "text": [
      "[1] \"confidence interval\"\n"
     ]
    },
    {
     "data": {
      "text/html": [
       "<table class=\"dataframe\">\n",
       "<caption>A matrix: 1 × 3 of type dbl</caption>\n",
       "<thead>\n",
       "\t<tr><th></th><th scope=col>fit</th><th scope=col>lwr</th><th scope=col>upr</th></tr>\n",
       "</thead>\n",
       "<tbody>\n",
       "\t<tr><th scope=row>1</th><td>199706.7</td><td>191753.5</td><td>207659.9</td></tr>\n",
       "</tbody>\n",
       "</table>\n"
      ],
      "text/latex": [
       "A matrix: 1 × 3 of type dbl\n",
       "\\begin{tabular}{r|lll}\n",
       "  & fit & lwr & upr\\\\\n",
       "\\hline\n",
       "\t1 & 199706.7 & 191753.5 & 207659.9\\\\\n",
       "\\end{tabular}\n"
      ],
      "text/markdown": [
       "\n",
       "A matrix: 1 × 3 of type dbl\n",
       "\n",
       "| <!--/--> | fit | lwr | upr |\n",
       "|---|---|---|---|\n",
       "| 1 | 199706.7 | 191753.5 | 207659.9 |\n",
       "\n"
      ],
      "text/plain": [
       "  fit      lwr      upr     \n",
       "1 199706.7 191753.5 207659.9"
      ]
     },
     "metadata": {},
     "output_type": "display_data"
    }
   ],
   "source": [
    "newdata <- data.frame(school_rating=4.28, crime=215.50)\n",
    "\n",
    "print(\"prediction interval\")\n",
    "prediction_pred_int <- predict(model2, newdata, interval=\"predict\", level=0.90) \n",
    "round(prediction_pred_int,4)\n",
    "\n",
    "print(\"confidence interval\")\n",
    "prediction_conf_int <- predict(model2, newdata, interval=\"confidence\", level=0.90) \n",
    "round(prediction_conf_int,4)"
   ]
  },
  {
   "cell_type": "markdown",
   "metadata": {
    "deletable": false,
    "editable": false
   },
   "source": [
    "# Nested Models F-Test\n",
    "\n",
    "You have been asked to create a reduced model and compare it with the complete second order model (Model #2 above). Before writing any code, review Section 5 of the Summary Report template to see the questions you will need to answer.\n",
    "\n",
    "Run your scripts to get the outputs of your regression analysis. Then use the outputs to answer the questions in your summary report.\n",
    "\n",
    "**Note: Use the + (plus) button to add new code blocks, if needed.**"
   ]
  },
  {
   "cell_type": "code",
   "execution_count": 5,
   "metadata": {},
   "outputs": [
    {
     "data": {
      "text/plain": [
       "\n",
       "Call:\n",
       "lm(formula = price ~ school_rating + crime + crime:school_rating, \n",
       "    data = housing)\n",
       "\n",
       "Residuals:\n",
       "    Min      1Q  Median      3Q     Max \n",
       "-336984  -63754   -4397   58894  440377 \n",
       "\n",
       "Coefficients:\n",
       "                      Estimate Std. Error t value Pr(>|t|)    \n",
       "(Intercept)         -410233.37   25261.25  -16.24   <2e-16 ***\n",
       "school_rating        155559.97    3133.06   49.65   <2e-16 ***\n",
       "crime                  2230.07     129.70   17.20   <2e-16 ***\n",
       "school_rating:crime    -564.85      17.86  -31.63   <2e-16 ***\n",
       "---\n",
       "Signif. codes:  0 '***' 0.001 '**' 0.01 '*' 0.05 '.' 0.1 ' ' 1\n",
       "\n",
       "Residual standard error: 94870 on 2688 degrees of freedom\n",
       "Multiple R-squared:  0.7995,\tAdjusted R-squared:  0.7993 \n",
       "F-statistic:  3573 on 3 and 2688 DF,  p-value: < 2.2e-16\n"
      ]
     },
     "metadata": {},
     "output_type": "display_data"
    }
   ],
   "source": [
    "model3 <- lm(price ~ school_rating + crime + crime:school_rating, data=housing)\n",
    "summary(model3)"
   ]
  },
  {
   "cell_type": "code",
   "execution_count": 6,
   "metadata": {},
   "outputs": [
    {
     "name": "stdout",
     "output_type": "stream",
     "text": [
      "[1] \"confint\"\n"
     ]
    },
    {
     "data": {
      "text/html": [
       "<table class=\"dataframe\">\n",
       "<caption>A matrix: 4 × 2 of type dbl</caption>\n",
       "<thead>\n",
       "\t<tr><th></th><th scope=col>5 %</th><th scope=col>95 %</th></tr>\n",
       "</thead>\n",
       "<tbody>\n",
       "\t<tr><th scope=row>(Intercept)</th><td>-451798.765</td><td>-368667.983</td></tr>\n",
       "\t<tr><th scope=row>school_rating</th><td> 150404.774</td><td> 160715.161</td></tr>\n",
       "\t<tr><th scope=row>crime</th><td>   2016.670</td><td>   2443.479</td></tr>\n",
       "\t<tr><th scope=row>school_rating:crime</th><td>   -594.228</td><td>   -535.464</td></tr>\n",
       "</tbody>\n",
       "</table>\n"
      ],
      "text/latex": [
       "A matrix: 4 × 2 of type dbl\n",
       "\\begin{tabular}{r|ll}\n",
       "  & 5 \\% & 95 \\%\\\\\n",
       "\\hline\n",
       "\t(Intercept) & -451798.765 & -368667.983\\\\\n",
       "\tschool\\_rating &  150404.774 &  160715.161\\\\\n",
       "\tcrime &    2016.670 &    2443.479\\\\\n",
       "\tschool\\_rating:crime &    -594.228 &    -535.464\\\\\n",
       "\\end{tabular}\n"
      ],
      "text/markdown": [
       "\n",
       "A matrix: 4 × 2 of type dbl\n",
       "\n",
       "| <!--/--> | 5 % | 95 % |\n",
       "|---|---|---|\n",
       "| (Intercept) | -451798.765 | -368667.983 |\n",
       "| school_rating |  150404.774 |  160715.161 |\n",
       "| crime |    2016.670 |    2443.479 |\n",
       "| school_rating:crime |    -594.228 |    -535.464 |\n",
       "\n"
      ],
      "text/plain": [
       "                    5 %         95 %       \n",
       "(Intercept)         -451798.765 -368667.983\n",
       "school_rating        150404.774  160715.161\n",
       "crime                  2016.670    2443.479\n",
       "school_rating:crime    -594.228    -535.464"
      ]
     },
     "metadata": {},
     "output_type": "display_data"
    }
   ],
   "source": [
    "# confidence intervals for model parameters\n",
    "print(\"confint\")\n",
    "conf_95_int <- confint(model3, level=0.90) \n",
    "round(conf_95_int, 3)"
   ]
  },
  {
   "cell_type": "code",
   "execution_count": 10,
   "metadata": {},
   "outputs": [
    {
     "data": {
      "text/html": [
       "<table class=\"dataframe\">\n",
       "<caption>A anova: 2 × 6</caption>\n",
       "<thead>\n",
       "\t<tr><th></th><th scope=col>Res.Df</th><th scope=col>RSS</th><th scope=col>Df</th><th scope=col>Sum of Sq</th><th scope=col>F</th><th scope=col>Pr(&gt;F)</th></tr>\n",
       "\t<tr><th></th><th scope=col>&lt;dbl&gt;</th><th scope=col>&lt;dbl&gt;</th><th scope=col>&lt;dbl&gt;</th><th scope=col>&lt;dbl&gt;</th><th scope=col>&lt;dbl&gt;</th><th scope=col>&lt;dbl&gt;</th></tr>\n",
       "</thead>\n",
       "<tbody>\n",
       "\t<tr><th scope=row>1</th><td>2686</td><td>2.307469e+13</td><td>NA</td><td>           NA</td><td>      NA</td><td>         NA</td></tr>\n",
       "\t<tr><th scope=row>2</th><td>2688</td><td>2.419501e+13</td><td>-2</td><td>-1.120319e+12</td><td>65.20513</td><td>2.22716e-28</td></tr>\n",
       "</tbody>\n",
       "</table>\n"
      ],
      "text/latex": [
       "A anova: 2 × 6\n",
       "\\begin{tabular}{r|llllll}\n",
       "  & Res.Df & RSS & Df & Sum of Sq & F & Pr(>F)\\\\\n",
       "  & <dbl> & <dbl> & <dbl> & <dbl> & <dbl> & <dbl>\\\\\n",
       "\\hline\n",
       "\t1 & 2686 & 2.307469e+13 & NA &            NA &       NA &          NA\\\\\n",
       "\t2 & 2688 & 2.419501e+13 & -2 & -1.120319e+12 & 65.20513 & 2.22716e-28\\\\\n",
       "\\end{tabular}\n"
      ],
      "text/markdown": [
       "\n",
       "A anova: 2 × 6\n",
       "\n",
       "| <!--/--> | Res.Df &lt;dbl&gt; | RSS &lt;dbl&gt; | Df &lt;dbl&gt; | Sum of Sq &lt;dbl&gt; | F &lt;dbl&gt; | Pr(&gt;F) &lt;dbl&gt; |\n",
       "|---|---|---|---|---|---|---|\n",
       "| 1 | 2686 | 2.307469e+13 | NA |            NA |       NA |          NA |\n",
       "| 2 | 2688 | 2.419501e+13 | -2 | -1.120319e+12 | 65.20513 | 2.22716e-28 |\n",
       "\n"
      ],
      "text/plain": [
       "  Res.Df RSS          Df Sum of Sq     F        Pr(>F)     \n",
       "1 2686   2.307469e+13 NA            NA       NA          NA\n",
       "2 2688   2.419501e+13 -2 -1.120319e+12 65.20513 2.22716e-28"
      ]
     },
     "metadata": {},
     "output_type": "display_data"
    }
   ],
   "source": [
    "# Create the complete model\n",
    "fit_complete <- lm(price ~ school_rating + crime + school_rating:crime + I(school_rating^2) + I(crime^2), data=housing)\n",
    "\n",
    "# Create the reduced model\n",
    "fit_reduced <- lm(price ~ school_rating + crime + school_rating:crime, data=housing)\n",
    "\n",
    "# Perform the F-test\n",
    "anova(fit_complete, fit_reduced)"
   ]
  },
  {
   "cell_type": "markdown",
   "metadata": {
    "deletable": false,
    "editable": false
   },
   "source": [
    "## End of Project One Jupyter Notebook\n",
    "The HTML output can be downloaded by clicking **File**, then **Download as**, then **HTML**. Be sure to answer all of the questions in the Summary Report template for Project One, and to include your completed Jupyter Notebook scripts as part of your submission."
   ]
  }
 ],
 "metadata": {
  "celltoolbar": "Edit Metadata",
  "kernelspec": {
   "display_name": "R",
   "language": "R",
   "name": "ir"
  },
  "language_info": {
   "codemirror_mode": "r",
   "file_extension": ".r",
   "mimetype": "text/x-r-source",
   "name": "R",
   "pygments_lexer": "r",
   "version": "4.4.3"
  }
 },
 "nbformat": 4,
 "nbformat_minor": 4
}
